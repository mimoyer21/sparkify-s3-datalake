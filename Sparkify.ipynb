{
 "cells": [
  {
   "cell_type": "code",
   "execution_count": 1,
   "id": "148cc162-2313-40b5-83b8-0610f0a344ef",
   "metadata": {
    "execution": {
     "iopub.execute_input": "2022-03-29T23:49:15.265096Z",
     "iopub.status.busy": "2022-03-29T23:49:15.264761Z",
     "iopub.status.idle": "2022-03-29T23:49:56.606706Z",
     "shell.execute_reply": "2022-03-29T23:49:56.605720Z",
     "shell.execute_reply.started": "2022-03-29T23:49:15.265054Z"
    },
    "tags": []
   },
   "outputs": [
    {
     "data": {
      "application/vnd.jupyter.widget-view+json": {
       "model_id": "8a53ec5a24ce487c9f513b82a58cbffb",
       "version_major": 2,
       "version_minor": 0
      },
      "text/plain": [
       "VBox()"
      ]
     },
     "metadata": {},
     "output_type": "display_data"
    },
    {
     "name": "stdout",
     "output_type": "stream",
     "text": [
      "Starting Spark application\n"
     ]
    },
    {
     "data": {
      "text/html": [
       "<table>\n",
       "<tr><th>ID</th><th>YARN Application ID</th><th>Kind</th><th>State</th><th>Spark UI</th><th>Driver log</th><th>User</th><th>Current session?</th></tr><tr><td>0</td><td>application_1648670016690_0001</td><td>pyspark</td><td>idle</td><td><a target=\"_blank\" href=\"http://ip-172-31-93-137.ec2.internal:20888/proxy/application_1648670016690_0001/\" class=\"emr-proxy-link\" emr-resource=\"j-O9F0A0XXRW6P\n",
       "\" application-id=\"application_1648670016690_0001\">Link</a></td><td><a target=\"_blank\" href=\"http://ip-172-31-94-209.ec2.internal:8042/node/containerlogs/container_1648670016690_0001_01_000001/livy\" >Link</a></td><td>None</td><td>✔</td></tr></table>"
      ],
      "text/plain": [
       "<IPython.core.display.HTML object>"
      ]
     },
     "metadata": {},
     "output_type": "display_data"
    },
    {
     "data": {
      "application/vnd.jupyter.widget-view+json": {
       "model_id": "",
       "version_major": 2,
       "version_minor": 0
      },
      "text/plain": [
       "FloatProgress(value=0.0, bar_style='info', description='Progress:', layout=Layout(height='25px', width='50%'),…"
      ]
     },
     "metadata": {},
     "output_type": "display_data"
    },
    {
     "name": "stdout",
     "output_type": "stream",
     "text": [
      "SparkSession available as 'spark'.\n"
     ]
    },
    {
     "data": {
      "application/vnd.jupyter.widget-view+json": {
       "model_id": "",
       "version_major": 2,
       "version_minor": 0
      },
      "text/plain": [
       "FloatProgress(value=0.0, bar_style='info', description='Progress:', layout=Layout(height='25px', width='50%'),…"
      ]
     },
     "metadata": {},
     "output_type": "display_data"
    }
   ],
   "source": [
    "import configparser\n",
    "from datetime import datetime\n",
    "import os\n",
    "from pyspark.sql import SparkSession\n",
    "from pyspark.sql.functions import udf, col, monotonically_increasing_id\n",
    "from pyspark.sql.functions import year, month, dayofmonth, hour, weekofyear, date_format\n",
    "from pyspark.sql.types import *"
   ]
  },
  {
   "cell_type": "markdown",
   "id": "bff63c8d-0e72-4b0a-ab4f-38d3a12f8023",
   "metadata": {},
   "source": [
    "### Configure the SparkSession that we'll want to create"
   ]
  },
  {
   "cell_type": "code",
   "execution_count": 2,
   "id": "b373c5a6-d25f-4dc4-89d4-f5b180ac71d3",
   "metadata": {
    "execution": {
     "iopub.execute_input": "2022-03-29T23:48:09.164228Z",
     "iopub.status.busy": "2022-03-29T23:48:09.163882Z",
     "iopub.status.idle": "2022-03-29T23:48:10.933483Z",
     "shell.execute_reply": "2022-03-29T23:48:10.932440Z",
     "shell.execute_reply.started": "2022-03-29T23:48:09.164180Z"
    }
   },
   "outputs": [
    {
     "data": {
      "application/vnd.jupyter.widget-view+json": {
       "model_id": "7885a22cb7c9413a9a55bbe07b2268bd",
       "version_major": 2,
       "version_minor": 0
      },
      "text/plain": [
       "VBox()"
      ]
     },
     "metadata": {},
     "output_type": "display_data"
    },
    {
     "data": {
      "application/vnd.jupyter.widget-view+json": {
       "model_id": "",
       "version_major": 2,
       "version_minor": 0
      },
      "text/plain": [
       "FloatProgress(value=0.0, bar_style='info', description='Progress:', layout=Layout(height='25px', width='50%'),…"
      ]
     },
     "metadata": {},
     "output_type": "display_data"
    }
   ],
   "source": [
    "def create_spark_session():\n",
    "    spark = SparkSession \\\n",
    "        .builder \\\n",
    "        .config(\"spark.jars.packages\", \"org.apache.hadoop:hadoop-aws:2.7.0\") \\\n",
    "        .getOrCreate()\n",
    "    return spark"
   ]
  },
  {
   "cell_type": "markdown",
   "id": "c625bb3f",
   "metadata": {},
   "source": [
    "### Define how song and log data should be processed"
   ]
  },
  {
   "cell_type": "code",
   "execution_count": 3,
   "id": "409d5363-86b5-4cbf-aca6-9067959f6d6f",
   "metadata": {},
   "outputs": [
    {
     "data": {
      "application/vnd.jupyter.widget-view+json": {
       "model_id": "c332d5c4371e412ab1e122b7db983135",
       "version_major": 2,
       "version_minor": 0
      },
      "text/plain": [
       "VBox()"
      ]
     },
     "metadata": {},
     "output_type": "display_data"
    },
    {
     "data": {
      "application/vnd.jupyter.widget-view+json": {
       "model_id": "",
       "version_major": 2,
       "version_minor": 0
      },
      "text/plain": [
       "FloatProgress(value=0.0, bar_style='info', description='Progress:', layout=Layout(height='25px', width='50%'),…"
      ]
     },
     "metadata": {},
     "output_type": "display_data"
    }
   ],
   "source": [
    "def process_song_data(spark, input_data, output_data):\n",
    "    # get filepath to song data file\n",
    "    song_data = input_data + \"song_data/*/*/*/*.json\"\n",
    "    \n",
    "    # define schema\n",
    "    song_schema = StructType([ \\\n",
    "        StructField(\"num_songs\",IntegerType()), \\\n",
    "        StructField(\"artist_id\",StringType()), \\\n",
    "        StructField(\"artist_latitude\",DoubleType()), \\\n",
    "        StructField(\"artist_longitude\", DoubleType()), \\\n",
    "        StructField(\"artist_location\", StringType()), \\\n",
    "        StructField(\"artist_name\", StringType()), \\\n",
    "        StructField(\"song_id\", StringType()), \\\n",
    "        StructField(\"title\", StringType()), \\\n",
    "        StructField(\"duration\", DoubleType()), \\\n",
    "        StructField(\"year\", IntegerType()) \\\n",
    "    ])\n",
    "    \n",
    "    # read song data file\n",
    "    df = spark.read.schema(song_schema).json(song_data)\n",
    "\n",
    "    # extract columns to create songs table\n",
    "    songs_table = df.select(\"song_id\", \"title\", \"artist_id\", \"year\", \"duration\").distinct()\n",
    "    \n",
    "    # write songs table to parquet files partitioned by year and artist\n",
    "    songs_table.write.partitionBy(\"year\",\"artist_id\").mode('overwrite').parquet(output_data + \"songs\")\n",
    "\n",
    "    # extract columns to create artists table (and rename cols to desired names)\n",
    "    artists_col_names = [\"artist_id\", \"name\", \"location\", \"latitude\", \"longitude\"]\n",
    "    artists_table = df.select(\"artist_id\", \"artist_name\", \"artist_location\", \"artist_latitude\", \"artist_longitude\").distinct().toDF(*artists_col_names) \n",
    "    \n",
    "    # write artists table to parquet files\n",
    "    artists_table.write.mode('overwrite').parquet(output_data + \"artists\")"
   ]
  },
  {
   "cell_type": "code",
   "execution_count": 4,
   "id": "e10b5f96-9770-4bdf-9a77-4226bbf67c81",
   "metadata": {},
   "outputs": [
    {
     "data": {
      "application/vnd.jupyter.widget-view+json": {
       "model_id": "a38a697d2fac4f85aa8377362cc6d492",
       "version_major": 2,
       "version_minor": 0
      },
      "text/plain": [
       "VBox()"
      ]
     },
     "metadata": {},
     "output_type": "display_data"
    },
    {
     "data": {
      "application/vnd.jupyter.widget-view+json": {
       "model_id": "",
       "version_major": 2,
       "version_minor": 0
      },
      "text/plain": [
       "FloatProgress(value=0.0, bar_style='info', description='Progress:', layout=Layout(height='25px', width='50%'),…"
      ]
     },
     "metadata": {},
     "output_type": "display_data"
    }
   ],
   "source": [
    "def process_log_data(spark, input_data, output_data):\n",
    "    # get filepath to log data file\n",
    "    log_data = input_data + \"log_data\"\n",
    "\n",
    "    # define schema\n",
    "    log_data_schema = StructType([ \\\n",
    "        StructField(\"artist\",StringType()), \\\n",
    "        StructField(\"auth\",StringType()), \\\n",
    "        StructField(\"firstName\",StringType()), \\\n",
    "        StructField(\"gender\", StringType()), \\\n",
    "        StructField(\"itemInSession\", IntegerType()), \\\n",
    "        StructField(\"lastName\", StringType()), \\\n",
    "        StructField(\"length\", DoubleType()), \\\n",
    "        StructField(\"level\", StringType()), \\\n",
    "        StructField(\"location\", StringType()), \\\n",
    "        StructField(\"method\", StringType()), \\\n",
    "        StructField(\"page\", StringType()), \\\n",
    "        StructField(\"registration\", DoubleType()), \\\n",
    "        StructField(\"sessionId\", IntegerType()), \\\n",
    "        StructField(\"song\", StringType()), \\\n",
    "        StructField(\"status\", IntegerType()), \\\n",
    "        StructField(\"ts\", LongType()), \\\n",
    "        StructField(\"userAgent\", StringType()), \\\n",
    "        StructField(\"userId\", StringType()) \\\n",
    "    ])\n",
    "    \n",
    "    # read log data file\n",
    "    df = spark.read.schema(log_data_schema).json(log_data)\n",
    "    \n",
    "    # filter by actions for song plays\n",
    "    df = df.filter(\"page = 'NextSong'\")\n",
    "    df.createOrReplaceTempView(\"log_data\")\n",
    "\n",
    "    # extract columns for users table    \n",
    "    users_col_names = [\"user_id\", \"first_name\", \"last_name\", \"gender\", \"level\"]\n",
    "    users_table = df.select(\"userId\", \"firstName\", \"lastName\", \"gender\", \"level\").distinct().toDF(*users_col_names)\n",
    "    \n",
    "    # write users table to parquet files\n",
    "    users_table.write.mode('overwrite').parquet(output_data + \"users\")\n",
    "    \n",
    "    # extract columns to create time table: start_time, hour, day, week, month, year, weekday\n",
    "    time_table = spark.sql(\"\"\"\n",
    "        with timestamps as (\n",
    "        select distinct ts\n",
    "            , from_unixtime(ts / 1000) as start_time\n",
    "        from log_data\n",
    "        )\n",
    "        select ts\n",
    "            , start_time\n",
    "            , extract(hour from start_time) as hour\n",
    "            , extract(day from start_time) as day\n",
    "            , extract(week from start_time) as week\n",
    "            , extract(month from start_time) as month\n",
    "            , extract(year from start_time) as year\n",
    "            , extract(dayofweek from start_time) as weekday\n",
    "        from timestamps\n",
    "    \"\"\")\n",
    "        \n",
    "    # write time table to parquet files partitioned by year and month\n",
    "    time_table.write.partitionBy(\"year\",\"month\").mode('overwrite').parquet(output_data + \"time\")\n",
    "\n",
    "    # read in song and artist data to use for songplays table\n",
    "    song_schema = StructType([ \\\n",
    "        StructField(\"song_id\",StringType()), \\\n",
    "        StructField(\"title\",StringType()), \\\n",
    "        StructField(\"artist_id\",StringType()), \\\n",
    "        StructField(\"year\", IntegerType()), \\\n",
    "        StructField(\"duration\", DoubleType())\n",
    "    ])\n",
    "    song_data = output_data + \"songs\"\n",
    "    song_df = spark.read.schema(song_schema).parquet(song_data)\n",
    "    song_df.createOrReplaceTempView(\"songs\")\n",
    "    \n",
    "    artist_schema = StructType([ \\\n",
    "        StructField(\"artist_id\",StringType()), \\\n",
    "        StructField(\"name\",StringType()), \\\n",
    "        StructField(\"location\",StringType()), \\\n",
    "        StructField(\"latitude\", DoubleType()), \\\n",
    "        StructField(\"longitude\", DoubleType())\n",
    "    ])\n",
    "    artist_data = output_data + \"artists\"\n",
    "    artist_df = spark.read.schema(artist_schema).parquet(artist_data)\n",
    "    artist_df.createOrReplaceTempView(\"artists\")\n",
    "\n",
    "    # extract columns from joined song, artist, and log datasets to create songplays table \n",
    "    songplays_table = spark.sql(\"\"\"\n",
    "        select from_unixtime(l.ts / 1000) as start_time\n",
    "            , l.userId as user_id\n",
    "            , l.level\n",
    "            , s.song_id\n",
    "            , s.artist_id\n",
    "            , l.sessionId as session_id\n",
    "            , l.location\n",
    "            , l.userAgent as user_agent\n",
    "            , year(from_unixtime(l.ts / 1000)) as year\n",
    "            , month(from_unixtime(l.ts / 1000)) as month\n",
    "        from songs s\n",
    "        join artists a\n",
    "            on s.artist_id = a.artist_id\n",
    "        join log_data l\n",
    "            on l.artist = a.name\n",
    "            and l.song = s.title\n",
    "    \"\"\")\n",
    "    songplays_table = songplays_table.withColumn(\"songplay_id\", monotonically_increasing_id())\n",
    "\n",
    "    # write songplays table to parquet files partitioned by year and month\n",
    "    songplays_table.write.partitionBy(\"year\", \"month\").mode('overwrite').parquet(output_data + \"songplays\")"
   ]
  },
  {
   "cell_type": "markdown",
   "id": "85aa2c51",
   "metadata": {},
   "source": [
    "### Define input and output paths and orchestrate processing song + log data"
   ]
  },
  {
   "cell_type": "code",
   "execution_count": 5,
   "id": "06e50315-c700-49a7-bc00-ad05d3ffb88e",
   "metadata": {},
   "outputs": [
    {
     "data": {
      "application/vnd.jupyter.widget-view+json": {
       "model_id": "b229e2c1ef5a46efb3f859721776f46d",
       "version_major": 2,
       "version_minor": 0
      },
      "text/plain": [
       "VBox()"
      ]
     },
     "metadata": {},
     "output_type": "display_data"
    },
    {
     "data": {
      "application/vnd.jupyter.widget-view+json": {
       "model_id": "",
       "version_major": 2,
       "version_minor": 0
      },
      "text/plain": [
       "FloatProgress(value=0.0, bar_style='info', description='Progress:', layout=Layout(height='25px', width='50%'),…"
      ]
     },
     "metadata": {},
     "output_type": "display_data"
    }
   ],
   "source": [
    "def main():\n",
    "    spark = create_spark_session()\n",
    "    input_data = \"s3a://udacity-dend/\" # @fixme: use this to run on AWS data\n",
    "#     input_data = \"data/\" # use to run on local small dataset for testing\n",
    "    \n",
    "    output_data = \"s3a://mmoyer-sparkify/\"  # @fixme: use to publish output to AWS\n",
    "#     output_data = \"data/output/\" # use to publish output locally for testing\n",
    "    \n",
    "    process_song_data(spark, input_data, output_data)    \n",
    "    process_log_data(spark, input_data, output_data)"
   ]
  },
  {
   "cell_type": "markdown",
   "id": "b9dd2dcb",
   "metadata": {},
   "source": [
    "### Run ETL process defined above"
   ]
  },
  {
   "cell_type": "code",
   "execution_count": null,
   "id": "a0a74e58-7ac0-466c-9546-18142c55b022",
   "metadata": {},
   "outputs": [
    {
     "data": {
      "application/vnd.jupyter.widget-view+json": {
       "model_id": "21f5b579fafa4e8da5f2bd4f0bf4d9f8",
       "version_major": 2,
       "version_minor": 0
      },
      "text/plain": [
       "VBox()"
      ]
     },
     "metadata": {},
     "output_type": "display_data"
    },
    {
     "data": {
      "application/vnd.jupyter.widget-view+json": {
       "model_id": "6ce7d471a7ab4e18808144710f0eb9da",
       "version_major": 2,
       "version_minor": 0
      },
      "text/plain": [
       "FloatProgress(value=0.0, bar_style='info', description='Progress:', layout=Layout(height='25px', width='50%'),…"
      ]
     },
     "metadata": {},
     "output_type": "display_data"
    },
    {
     "name": "stderr",
     "output_type": "stream",
     "text": [
      "An error was encountered:\n",
      "Invalid status code '400' from http://localhost:8998/sessions/0/statements/6 with error payload: {\"msg\":\"requirement failed: Session isn't active.\"}\n"
     ]
    }
   ],
   "source": [
    "main()"
   ]
  },
  {
   "cell_type": "code",
   "execution_count": null,
   "id": "93a084f7",
   "metadata": {},
   "outputs": [],
   "source": []
  }
 ],
 "metadata": {
  "kernelspec": {
   "display_name": "PySpark",
   "language": "python",
   "name": "pysparkkernel"
  },
  "language_info": {
   "codemirror_mode": {
    "name": "python",
    "version": 3
   },
   "file_extension": ".py",
   "mimetype": "text/x-python",
   "name": "pyspark",
   "pygments_lexer": "python3"
  }
 },
 "nbformat": 4,
 "nbformat_minor": 5
}
